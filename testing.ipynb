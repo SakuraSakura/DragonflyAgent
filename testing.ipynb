{
 "cells": [
  {
   "cell_type": "code",
   "execution_count": null,
   "metadata": {
    "collapsed": true
   },
   "outputs": [],
   "source": [
    "import torch\n",
    "import torch.nn.functional as F\n",
    "from torch.autograd import Variable\n",
    "\n",
    "from a3c.envs import create_unreal_env\n",
    "from a3c.model import ActorCritic\n",
    "from pspnet.utils import color_class_image\n",
    "\n",
    "import matplotlib.pyplot as plt\n",
    "import numpy as np\n",
    "from IPython import display"
   ]
  },
  {
   "cell_type": "code",
   "execution_count": null,
   "metadata": {
    "collapsed": true
   },
   "outputs": [],
   "source": [
    "%matplotlib inline"
   ]
  },
  {
   "cell_type": "code",
   "execution_count": null,
   "metadata": {
    "collapsed": true
   },
   "outputs": [],
   "source": [
    "%env CUDA_VISIBLE_DEVICES=1"
   ]
  },
  {
   "cell_type": "code",
   "execution_count": null,
   "metadata": {
    "collapsed": true
   },
   "outputs": [],
   "source": [
    "env = create_unreal_env(0)\n",
    "\n",
    "model = ActorCritic(env.observation_space.shape[0], env.action_space)\n",
    "model.eval()\n",
    "model.load_state_dict(torch.load('checkpoints/best.pth'))"
   ]
  },
  {
   "cell_type": "code",
   "execution_count": null,
   "metadata": {
    "collapsed": true
   },
   "outputs": [],
   "source": [
    "cx = Variable(torch.zeros(1, 256), volatile=True)\n",
    "hx = Variable(torch.zeros(1, 256), volatile=True)\n",
    "\n",
    "reward_sum = 0\n",
    "episode_length = 0\n",
    "done = False\n",
    "\n",
    "state = env.reset()\n",
    "fig, axes = plt.subplots(1, 2, figsize=(15, 8))\n",
    "segmented_image = color_class_image(np.argmax(state.transpose(1, 2, 0), axis=2))\n",
    "segmented = axes[0].imshow(segmented_image)\n",
    "original = axes[1].imshow(env.render())\n",
    "axes[0].axis('off')\n",
    "axes[1].axis('off')\n",
    "display.display(plt.gcf())\n",
    "display.clear_output(wait=True)\n",
    "\n",
    "while not done:\n",
    "    episode_length += 1\n",
    "    cx = Variable(cx.data, volatile=True)\n",
    "    hx = Variable(hx.data, volatile=True)\n",
    "\n",
    "    value, logit, (hx, cx) = model((Variable(\n",
    "        torch.from_numpy(state).unsqueeze(0), volatile=True), (hx, cx)))\n",
    "    prob = F.softmax(logit, dim=1)\n",
    "    action = prob.max(1, keepdim=True)[1].data.numpy()\n",
    "\n",
    "    state, reward, done, info = env.step(action[0, 0])\n",
    "    reward_sum += reward\n",
    "    \n",
    "    segmented_image = color_class_image(np.argmax(state.transpose(1, 2, 0), axis=2))\n",
    "    segmented.set_data(segmented_image)\n",
    "    original.set_data(env.render())\n",
    "    axes[0].axis('off')\n",
    "    axes[1].axis('off')\n",
    "    axes[0].set_title('step {:3} | episode reward: {} | distance moved: {:3.2f} m'.format(\n",
    "        episode_length, reward_sum, info['max_distance']))\n",
    "    display.display(plt.gcf())\n",
    "    display.clear_output(wait=True)"
   ]
  }
 ],
 "metadata": {
  "kernelspec": {
   "display_name": "Python [conda env:dragonfly]",
   "language": "python",
   "name": "conda-env-dragonfly-py"
  },
  "language_info": {
   "codemirror_mode": {
    "name": "ipython",
    "version": 3
   },
   "file_extension": ".py",
   "mimetype": "text/x-python",
   "name": "python",
   "nbconvert_exporter": "python",
   "pygments_lexer": "ipython3",
   "version": "3.6.2"
  }
 },
 "nbformat": 4,
 "nbformat_minor": 2
}
